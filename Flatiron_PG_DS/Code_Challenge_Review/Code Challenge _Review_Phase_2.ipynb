{
 "cells": [
  {
   "cell_type": "markdown",
   "id": "83e772db",
   "metadata": {},
   "source": [
    "#### Code Challenge Phase 2 Mock/Review"
   ]
  },
  {
   "cell_type": "markdown",
   "id": "7f379139",
   "metadata": {},
   "source": [
    "Yael's Tasty Treats is an Israeli eatery in NYC trying to offer its clientele traditional Israeli comfort dishes in a laidback environment. They have a few steady offerings on the menu. A fan favorite is Sabich (a stuffed pita with eggplant, eggs, tahini, salad and some spicy mango sauce). \n",
    "\n",
    "Data over the past year of sales of dishes of Sabich per day are well modeled by a normal distribution:\n",
    "\n",
    "The mean is 80 plates per day of Sabich sold with a standard deviation of 22 plates."
   ]
  },
  {
   "cell_type": "markdown",
   "id": "0901a1fd",
   "metadata": {},
   "source": [
    "Q1: What is the probability that on any given day that Yael's sells less than 45 plates?"
   ]
  },
  {
   "cell_type": "code",
   "execution_count": 4,
   "id": "4a11e19b",
   "metadata": {},
   "outputs": [],
   "source": [
    "from scipy.stats import norm\n",
    "\n",
    "proba = norm.cdf(45, loc = 80, scale = 22)"
   ]
  },
  {
   "cell_type": "code",
   "execution_count": 5,
   "id": "259231a4",
   "metadata": {},
   "outputs": [
    {
     "data": {
      "text/plain": [
       "0.05581501817774509"
      ]
     },
     "execution_count": 5,
     "metadata": {},
     "output_type": "execute_result"
    }
   ],
   "source": [
    "proba"
   ]
  },
  {
   "cell_type": "markdown",
   "id": "b710e68e",
   "metadata": {},
   "source": [
    "Q2a: What is the Z-score at 32 plates of Sabich? **Note: I'm NOT talking about the Z-score of sample means**"
   ]
  },
  {
   "cell_type": "code",
   "execution_count": 6,
   "id": "a0622d22",
   "metadata": {},
   "outputs": [
    {
     "data": {
      "text/plain": [
       "-2.1818181818181817"
      ]
     },
     "execution_count": 6,
     "metadata": {},
     "output_type": "execute_result"
    }
   ],
   "source": [
    "z_score = (32 - 80)/22\n",
    "z_score"
   ]
  },
  {
   "cell_type": "markdown",
   "id": "b67f9e1b",
   "metadata": {},
   "source": [
    "Q2b: I decide to look at the counts of orders of Sabich over just 60 days. Computing the mean of the sample  and I calculate it to be 74. Calculate the Z-statistic of the sample mean based on the distribution of sample means."
   ]
  },
  {
   "cell_type": "code",
   "execution_count": 109,
   "id": "5935544b",
   "metadata": {},
   "outputs": [
    {
     "data": {
      "text/plain": [
       "-2.1125363706585913"
      ]
     },
     "execution_count": 109,
     "metadata": {},
     "output_type": "execute_result"
    }
   ],
   "source": [
    "import numpy as np\n",
    "\n",
    "N = 60 # I have counts over 60 days = 60 samples\n",
    "Xbar = 74 # sample mean\n",
    "mu0 = 80 # population mean\n",
    "sigma = 22 # population std\n",
    "\n",
    "Zstatistic = (Xbar - mu0)/(sigma/np.sqrt(N))\n",
    "Zstatistic"
   ]
  },
  {
   "cell_type": "markdown",
   "id": "1da9053f",
   "metadata": {},
   "source": [
    "Q3: A marine biology survey vessel is estimating the length of adult male bottle nose dolphins in a region approximately 300 miles west of Point Reyes, CA in the Pacific. They measure 20 dolphins and get a mean of 2.6 m with a standard deviation of 0.3 m. \n",
    "\n",
    "Calculate the upper and lower bound of the 95% confidence interval for the mean."
   ]
  },
  {
   "cell_type": "code",
   "execution_count": 38,
   "id": "8ca2f9dd",
   "metadata": {},
   "outputs": [
    {
     "name": "stdout",
     "output_type": "stream",
     "text": [
      "2.4595956780740273 2.740404321925973\n"
     ]
    }
   ],
   "source": [
    "# Manually:\n",
    "from scipy.stats import t\n",
    "\n",
    "\n",
    "N = 20\n",
    "t_crit = t.ppf(.025, df = N -1)\n",
    "\n",
    "Xbar_dolph = 2.6\n",
    "std_dolph = 0.3\n",
    "\n",
    "upper = Xbar_dolph + (np.abs(t_crit)*std_dolph)/np.sqrt(N)\n",
    "lower = Xbar_dolph - (np.abs(t_crit)*std_dolph)/np.sqrt(N)\n",
    "print(lower,upper)"
   ]
  },
  {
   "cell_type": "code",
   "execution_count": 39,
   "id": "05faef92",
   "metadata": {},
   "outputs": [
    {
     "data": {
      "text/plain": [
       "(2.4595956780740273, 2.740404321925973)"
      ]
     },
     "execution_count": 39,
     "metadata": {},
     "output_type": "execute_result"
    }
   ],
   "source": [
    "t.interval(0.95, loc = 2.6, scale = 0.3/np.sqrt(N), df = N - 1)"
   ]
  },
  {
   "cell_type": "markdown",
   "id": "898285d4",
   "metadata": {},
   "source": [
    "Q4: In words, what is the 95\\% confidence interval telling us?"
   ]
  },
  {
   "cell_type": "code",
   "execution_count": null,
   "id": "8de501e6",
   "metadata": {},
   "outputs": [],
   "source": []
  },
  {
   "cell_type": "markdown",
   "id": "e76fa639",
   "metadata": {},
   "source": [
    "Q5: Yael's also serves sakshouka (egg poached in a tomato and red pepper sauce) with a side of challah as a breakfast/lunch special. The dish had only been on the menu for 2 weeks or so when Rachel Ray runs a Food Network special on The Joy of Cooking Sakshouka For Sunday Brunch. Your marketing manager believes that the running of this special bumped up the number of daily orders from the first two weeks.\n",
    "\n",
    "You have the following samples for daily orders of sakshouka for the first two weeks and count the sakshouka dishes sold for the next two weeks after the Rachel Ray special."
   ]
  },
  {
   "cell_type": "code",
   "execution_count": 43,
   "id": "18175572",
   "metadata": {},
   "outputs": [],
   "source": [
    "orders_per_day_before = [27, 22, 29, 24, 30, 30, 23, 18, 20, 24, 26, 20, 25, 28]\n",
    "orders_per_day_after = [31, 27, 29, 22, 25, 33, 30, 26, 14, 22, 31, 30, 35, 24]"
   ]
  },
  {
   "cell_type": "markdown",
   "id": "3af1e349",
   "metadata": {},
   "source": [
    "Q5: You want to evaluate what the marketing manager has said given the available data. What hypothesis test might you use here? Justify your answer."
   ]
  },
  {
   "cell_type": "markdown",
   "id": "21b175b9",
   "metadata": {},
   "source": [
    "A: if your hypothesis test is that the orders have increased, it's a right tailed two sample t-test. The sample sizes are small so you want to use  a t-test."
   ]
  },
  {
   "cell_type": "markdown",
   "id": "bd107363",
   "metadata": {},
   "source": [
    "Q6: State the null and the alternate hypotheses here."
   ]
  },
  {
   "cell_type": "markdown",
   "id": "26d0cc3a",
   "metadata": {},
   "source": [
    "H0: Rachel Ray had no effect on the the daily orders on average.\n",
    "H1: Rachel Ray increase the daily orders on average."
   ]
  },
  {
   "cell_type": "markdown",
   "id": "09fe9cec",
   "metadata": {},
   "source": [
    "Q7: At a significance level of 0.05, compute the p-values for the test you have chosen."
   ]
  },
  {
   "cell_type": "code",
   "execution_count": null,
   "id": "b23e2fbf",
   "metadata": {},
   "outputs": [],
   "source": [
    "# NOTE: on the code challenge the alternative = '...' option on the hypothesis tests wont be available to you\n",
    "# Flatiron illumidesk uses an older version of scipy"
   ]
  },
  {
   "cell_type": "markdown",
   "id": "55c0e0b7",
   "metadata": {},
   "source": [
    "Q8: At a significance level of 0.05, do you accept or reject the null?"
   ]
  },
  {
   "cell_type": "code",
   "execution_count": 41,
   "id": "0b71113c",
   "metadata": {},
   "outputs": [],
   "source": [
    "from scipy.stats import ttest_ind"
   ]
  },
  {
   "cell_type": "code",
   "execution_count": 45,
   "id": "b948afac",
   "metadata": {},
   "outputs": [
    {
     "data": {
      "text/plain": [
       "Ttest_indResult(statistic=-1.3206503264343294, pvalue=0.1981253830125162)"
      ]
     },
     "execution_count": 45,
     "metadata": {},
     "output_type": "execute_result"
    }
   ],
   "source": [
    "ttest_ind(orders_per_day_before, orders_per_day_after)"
   ]
  },
  {
   "cell_type": "markdown",
   "id": "7bd8a8bc",
   "metadata": {},
   "source": [
    "This assumes a two tailed test. But we are doing a right tailed test. Halve the value is the correct p-value for the right tailed test."
   ]
  },
  {
   "cell_type": "markdown",
   "id": "dd24539d",
   "metadata": {},
   "source": [
    "Q9: Explain the difference between type I and type II errors. What quantity used in hypothesis testing does the rate of type I errors correspond to?"
   ]
  },
  {
   "cell_type": "markdown",
   "id": "631246b6",
   "metadata": {},
   "source": [
    "- A type I error is where you reject the null when the null is true. (false positive)\n",
    "- A type II error is when you fail to reject the null when the null is false (false negative)\n",
    "\n",
    "- $\\alpha$ corresponds to the type I error rate. There is alpha probability that it actually came from the null even though its in my rejection region."
   ]
  },
  {
   "cell_type": "markdown",
   "id": "ee575721",
   "metadata": {},
   "source": [
    "We are trying to understand the factors affecting life expectancy in the WHO dataset. The WHO dataset has been loaded below for you. The "
   ]
  },
  {
   "cell_type": "code",
   "execution_count": 110,
   "id": "a26b8fdb",
   "metadata": {},
   "outputs": [],
   "source": [
    "import pandas as pd\n",
    "WHO_data = pd.read_csv('Data/WHO_life.csv')"
   ]
  },
  {
   "cell_type": "markdown",
   "id": "d8933fe8",
   "metadata": {},
   "source": [
    "Q10: Perform a simple linear regression of life expectancy on Schooling. Use Statsmodels."
   ]
  },
  {
   "cell_type": "code",
   "execution_count": 111,
   "id": "3980f99e",
   "metadata": {},
   "outputs": [],
   "source": [
    "import statsmodels.api as sm"
   ]
  },
  {
   "cell_type": "code",
   "execution_count": 112,
   "id": "80613f9b",
   "metadata": {},
   "outputs": [],
   "source": [
    "WHO_data = WHO_data.dropna()"
   ]
  },
  {
   "cell_type": "code",
   "execution_count": 113,
   "id": "1ccdc97e",
   "metadata": {},
   "outputs": [
    {
     "name": "stderr",
     "output_type": "stream",
     "text": [
      "C:\\ProgramData\\Anaconda3\\lib\\site-packages\\statsmodels\\tsa\\tsatools.py:142: FutureWarning: In a future version of pandas all arguments of concat except for the argument 'objs' will be keyword-only\n",
      "  x = pd.concat(x[::order], 1)\n"
     ]
    }
   ],
   "source": [
    "y = WHO_data['Life expectancy ']\n",
    "X = sm.add_constant(WHO_data['Schooling'])"
   ]
  },
  {
   "cell_type": "code",
   "execution_count": 114,
   "id": "287fcd97",
   "metadata": {},
   "outputs": [
    {
     "data": {
      "text/html": [
       "<div>\n",
       "<style scoped>\n",
       "    .dataframe tbody tr th:only-of-type {\n",
       "        vertical-align: middle;\n",
       "    }\n",
       "\n",
       "    .dataframe tbody tr th {\n",
       "        vertical-align: top;\n",
       "    }\n",
       "\n",
       "    .dataframe thead th {\n",
       "        text-align: right;\n",
       "    }\n",
       "</style>\n",
       "<table border=\"1\" class=\"dataframe\">\n",
       "  <thead>\n",
       "    <tr style=\"text-align: right;\">\n",
       "      <th></th>\n",
       "      <th>const</th>\n",
       "      <th>Schooling</th>\n",
       "    </tr>\n",
       "  </thead>\n",
       "  <tbody>\n",
       "    <tr>\n",
       "      <th>0</th>\n",
       "      <td>1.0</td>\n",
       "      <td>10.1</td>\n",
       "    </tr>\n",
       "    <tr>\n",
       "      <th>1</th>\n",
       "      <td>1.0</td>\n",
       "      <td>10.0</td>\n",
       "    </tr>\n",
       "    <tr>\n",
       "      <th>2</th>\n",
       "      <td>1.0</td>\n",
       "      <td>9.9</td>\n",
       "    </tr>\n",
       "    <tr>\n",
       "      <th>3</th>\n",
       "      <td>1.0</td>\n",
       "      <td>9.8</td>\n",
       "    </tr>\n",
       "    <tr>\n",
       "      <th>4</th>\n",
       "      <td>1.0</td>\n",
       "      <td>9.5</td>\n",
       "    </tr>\n",
       "    <tr>\n",
       "      <th>...</th>\n",
       "      <td>...</td>\n",
       "      <td>...</td>\n",
       "    </tr>\n",
       "    <tr>\n",
       "      <th>2933</th>\n",
       "      <td>1.0</td>\n",
       "      <td>9.2</td>\n",
       "    </tr>\n",
       "    <tr>\n",
       "      <th>2934</th>\n",
       "      <td>1.0</td>\n",
       "      <td>9.5</td>\n",
       "    </tr>\n",
       "    <tr>\n",
       "      <th>2935</th>\n",
       "      <td>1.0</td>\n",
       "      <td>10.0</td>\n",
       "    </tr>\n",
       "    <tr>\n",
       "      <th>2936</th>\n",
       "      <td>1.0</td>\n",
       "      <td>9.8</td>\n",
       "    </tr>\n",
       "    <tr>\n",
       "      <th>2937</th>\n",
       "      <td>1.0</td>\n",
       "      <td>9.8</td>\n",
       "    </tr>\n",
       "  </tbody>\n",
       "</table>\n",
       "<p>1649 rows × 2 columns</p>\n",
       "</div>"
      ],
      "text/plain": [
       "      const  Schooling\n",
       "0       1.0       10.1\n",
       "1       1.0       10.0\n",
       "2       1.0        9.9\n",
       "3       1.0        9.8\n",
       "4       1.0        9.5\n",
       "...     ...        ...\n",
       "2933    1.0        9.2\n",
       "2934    1.0        9.5\n",
       "2935    1.0       10.0\n",
       "2936    1.0        9.8\n",
       "2937    1.0        9.8\n",
       "\n",
       "[1649 rows x 2 columns]"
      ]
     },
     "execution_count": 114,
     "metadata": {},
     "output_type": "execute_result"
    }
   ],
   "source": [
    "X"
   ]
  },
  {
   "cell_type": "code",
   "execution_count": 115,
   "id": "22544ef0",
   "metadata": {},
   "outputs": [],
   "source": [
    "results = sm.OLS(y, X).fit()"
   ]
  },
  {
   "cell_type": "markdown",
   "id": "4c9ec406",
   "metadata": {},
   "source": [
    "Q11: Get the slope coefficient and bias. Also get me the $R^2$ value for this regression. Is the value good or bad?"
   ]
  },
  {
   "cell_type": "code",
   "execution_count": 116,
   "id": "7f191efe",
   "metadata": {},
   "outputs": [
    {
     "data": {
      "text/plain": [
       "const        41.550342\n",
       "Schooling     2.289787\n",
       "dtype: float64"
      ]
     },
     "execution_count": 116,
     "metadata": {},
     "output_type": "execute_result"
    }
   ],
   "source": [
    "results.params"
   ]
  },
  {
   "cell_type": "code",
   "execution_count": 117,
   "id": "22430fbd",
   "metadata": {},
   "outputs": [
    {
     "data": {
      "text/plain": [
       "0.5294454639356108"
      ]
     },
     "execution_count": 117,
     "metadata": {},
     "output_type": "execute_result"
    }
   ],
   "source": [
    "results.rsquared"
   ]
  },
  {
   "cell_type": "markdown",
   "id": "efd8d3bd",
   "metadata": {},
   "source": [
    "Q12: What is the $R^2$ value? What does it mean in terms of my data and estimation of life expectancy? Given the data I have, how might I improve this?"
   ]
  },
  {
   "cell_type": "markdown",
   "id": "e9c98082",
   "metadata": {},
   "source": [
    "The Rsquared value is 0.53. Schooling only explains 53% of the variance in life expectancy. There might be some other predictors in the data that we should include in our linear model. These might help us explain more of the variance in life expectancy."
   ]
  },
  {
   "cell_type": "markdown",
   "id": "4a5f067d",
   "metadata": {},
   "source": [
    "Q13: Make a scatter plot of the two relevant variables and plot the best fit line."
   ]
  },
  {
   "cell_type": "code",
   "execution_count": 95,
   "id": "3d22f5d2",
   "metadata": {},
   "outputs": [
    {
     "data": {
      "text/plain": [
       "[<matplotlib.lines.Line2D at 0x21569745190>]"
      ]
     },
     "execution_count": 95,
     "metadata": {},
     "output_type": "execute_result"
    },
    {
     "data": {
      "image/png": "[encoded data removed]",
      "text/plain": [
       "<Figure size 432x288 with 1 Axes>"
      ]
     },
     "metadata": {
      "needs_background": "light"
     },
     "output_type": "display_data"
    }
   ],
   "source": [
    "import matplotlib.pyplot as plt\n",
    "\n",
    "slope = results.params['Schooling']\n",
    "const = results.params['const']\n",
    "x_line = np.linspace(5,20,10)\n",
    "y_line = slope*x_line + const\n",
    "\n",
    "fig, ax = plt.subplots()\n",
    "\n",
    "ax.scatter(WHO_data['Schooling'], WHO_data['Life expectancy '])\n",
    "ax.plot(x_line, y_line, c ='r')\n"
   ]
  },
  {
   "cell_type": "code",
   "execution_count": 96,
   "id": "91d447ae",
   "metadata": {},
   "outputs": [
    {
     "data": {
      "text/plain": [
       "Index(['Country', 'Year', 'Status', 'Life expectancy ', 'Adult Mortality',\n",
       "       'infant deaths', 'Alcohol', 'percentage expenditure', 'Hepatitis B',\n",
       "       'Measles ', ' BMI ', 'under-five deaths ', 'Polio', 'Total expenditure',\n",
       "       'Diphtheria ', ' HIV/AIDS', 'GDP', 'Population',\n",
       "       ' thinness  1-19 years', ' thinness 5-9 years',\n",
       "       'Income composition of resources', 'Schooling'],\n",
       "      dtype='object')"
      ]
     },
     "execution_count": 96,
     "metadata": {},
     "output_type": "execute_result"
    }
   ],
   "source": [
    "WHO_data.columns"
   ]
  },
  {
   "cell_type": "markdown",
   "id": "2a7eaa57",
   "metadata": {},
   "source": [
    "Q14: Compute the regression of life expectancy based on population, schooling, and HIV/AIDs rate per capita in a country's population."
   ]
  },
  {
   "cell_type": "code",
   "execution_count": 118,
   "id": "bbc4e2c4",
   "metadata": {},
   "outputs": [
    {
     "name": "stderr",
     "output_type": "stream",
     "text": [
      "C:\\ProgramData\\Anaconda3\\lib\\site-packages\\statsmodels\\tsa\\tsatools.py:142: FutureWarning: In a future version of pandas all arguments of concat except for the argument 'objs' will be keyword-only\n",
      "  x = pd.concat(x[::order], 1)\n"
     ]
    }
   ],
   "source": [
    "X_multi = WHO_data[['Population', 'Schooling', ' HIV/AIDS']]\n",
    "#augment it with the constant term\n",
    "X_multi_aug = sm.add_constant(X_multi)"
   ]
  },
  {
   "cell_type": "code",
   "execution_count": 119,
   "id": "0ba1591c",
   "metadata": {},
   "outputs": [
    {
     "data": {
      "text/html": [
       "<div>\n",
       "<style scoped>\n",
       "    .dataframe tbody tr th:only-of-type {\n",
       "        vertical-align: middle;\n",
       "    }\n",
       "\n",
       "    .dataframe tbody tr th {\n",
       "        vertical-align: top;\n",
       "    }\n",
       "\n",
       "    .dataframe thead th {\n",
       "        text-align: right;\n",
       "    }\n",
       "</style>\n",
       "<table border=\"1\" class=\"dataframe\">\n",
       "  <thead>\n",
       "    <tr style=\"text-align: right;\">\n",
       "      <th></th>\n",
       "      <th>const</th>\n",
       "      <th>Population</th>\n",
       "      <th>Schooling</th>\n",
       "      <th>HIV/AIDS</th>\n",
       "    </tr>\n",
       "  </thead>\n",
       "  <tbody>\n",
       "    <tr>\n",
       "      <th>0</th>\n",
       "      <td>1.0</td>\n",
       "      <td>33736494.0</td>\n",
       "      <td>10.1</td>\n",
       "      <td>0.1</td>\n",
       "    </tr>\n",
       "    <tr>\n",
       "      <th>1</th>\n",
       "      <td>1.0</td>\n",
       "      <td>327582.0</td>\n",
       "      <td>10.0</td>\n",
       "      <td>0.1</td>\n",
       "    </tr>\n",
       "    <tr>\n",
       "      <th>2</th>\n",
       "      <td>1.0</td>\n",
       "      <td>31731688.0</td>\n",
       "      <td>9.9</td>\n",
       "      <td>0.1</td>\n",
       "    </tr>\n",
       "    <tr>\n",
       "      <th>3</th>\n",
       "      <td>1.0</td>\n",
       "      <td>3696958.0</td>\n",
       "      <td>9.8</td>\n",
       "      <td>0.1</td>\n",
       "    </tr>\n",
       "    <tr>\n",
       "      <th>4</th>\n",
       "      <td>1.0</td>\n",
       "      <td>2978599.0</td>\n",
       "      <td>9.5</td>\n",
       "      <td>0.1</td>\n",
       "    </tr>\n",
       "  </tbody>\n",
       "</table>\n",
       "</div>"
      ],
      "text/plain": [
       "   const  Population  Schooling   HIV/AIDS\n",
       "0    1.0  33736494.0       10.1        0.1\n",
       "1    1.0    327582.0       10.0        0.1\n",
       "2    1.0  31731688.0        9.9        0.1\n",
       "3    1.0   3696958.0        9.8        0.1\n",
       "4    1.0   2978599.0        9.5        0.1"
      ]
     },
     "execution_count": 119,
     "metadata": {},
     "output_type": "execute_result"
    }
   ],
   "source": [
    "X_multi_aug.head()"
   ]
  },
  {
   "cell_type": "code",
   "execution_count": 120,
   "id": "78dc5c6e",
   "metadata": {},
   "outputs": [],
   "source": [
    "results_multi = sm.OLS(y, X_multi_aug).fit()"
   ]
  },
  {
   "cell_type": "markdown",
   "id": "c97c37db",
   "metadata": {},
   "source": [
    "Q15: Print out the coefficients of regression. Get the $R^2$ value. "
   ]
  },
  {
   "cell_type": "code",
   "execution_count": 121,
   "id": "85ece3c4",
   "metadata": {},
   "outputs": [
    {
     "data": {
      "text/plain": [
       "const         4.661986e+01\n",
       "Population   -1.207290e-09\n",
       "Schooling     1.982540e+00\n",
       " HIV/AIDS    -6.694160e-01\n",
       "dtype: float64"
      ]
     },
     "execution_count": 121,
     "metadata": {},
     "output_type": "execute_result"
    }
   ],
   "source": [
    "results_multi.params"
   ]
  },
  {
   "cell_type": "code",
   "execution_count": 122,
   "id": "3545f47f",
   "metadata": {},
   "outputs": [
    {
     "data": {
      "text/plain": [
       "0.7304835799299605"
      ]
     },
     "execution_count": 122,
     "metadata": {},
     "output_type": "execute_result"
    }
   ],
   "source": [
    "results_multi.rsquared"
   ]
  },
  {
   "cell_type": "markdown",
   "id": "702ad082",
   "metadata": {},
   "source": [
    "Q16: Print out the results summary. Use the report to figure out which of variables are not important if there are any. Which metric did you use to evaluate this? Explain yourself."
   ]
  },
  {
   "cell_type": "code",
   "execution_count": 123,
   "id": "112e0625",
   "metadata": {},
   "outputs": [
    {
     "data": {
      "text/html": [
       "<table class=\"simpletable\">\n",
       "<caption>OLS Regression Results</caption>\n",
       "<tr>\n",
       "  <th>Dep. Variable:</th>    <td>Life expectancy </td> <th>  R-squared:         </th> <td>   0.730</td>\n",
       "</tr>\n",
       "<tr>\n",
       "  <th>Model:</th>                   <td>OLS</td>       <th>  Adj. R-squared:    </th> <td>   0.730</td>\n",
       "</tr>\n",
       "<tr>\n",
       "  <th>Method:</th>             <td>Least Squares</td>  <th>  F-statistic:       </th> <td>   1486.</td>\n",
       "</tr>\n",
       "<tr>\n",
       "  <th>Date:</th>             <td>Thu, 24 Mar 2022</td> <th>  Prob (F-statistic):</th>  <td>  0.00</td> \n",
       "</tr>\n",
       "<tr>\n",
       "  <th>Time:</th>                 <td>13:32:42</td>     <th>  Log-Likelihood:    </th> <td> -4843.9</td>\n",
       "</tr>\n",
       "<tr>\n",
       "  <th>No. Observations:</th>      <td>  1649</td>      <th>  AIC:               </th> <td>   9696.</td>\n",
       "</tr>\n",
       "<tr>\n",
       "  <th>Df Residuals:</th>          <td>  1645</td>      <th>  BIC:               </th> <td>   9717.</td>\n",
       "</tr>\n",
       "<tr>\n",
       "  <th>Df Model:</th>              <td>     3</td>      <th>                     </th>     <td> </td>   \n",
       "</tr>\n",
       "<tr>\n",
       "  <th>Covariance Type:</th>      <td>nonrobust</td>    <th>                     </th>     <td> </td>   \n",
       "</tr>\n",
       "</table>\n",
       "<table class=\"simpletable\">\n",
       "<tr>\n",
       "       <td></td>         <th>coef</th>     <th>std err</th>      <th>t</th>      <th>P>|t|</th>  <th>[0.025</th>    <th>0.975]</th>  \n",
       "</tr>\n",
       "<tr>\n",
       "  <th>const</th>      <td>   46.6199</td> <td>    0.523</td> <td>   89.061</td> <td> 0.000</td> <td>   45.593</td> <td>   47.647</td>\n",
       "</tr>\n",
       "<tr>\n",
       "  <th>Population</th> <td>-1.207e-09</td> <td>  1.6e-09</td> <td>   -0.754</td> <td> 0.451</td> <td>-4.35e-09</td> <td> 1.93e-09</td>\n",
       "</tr>\n",
       "<tr>\n",
       "  <th>Schooling</th>  <td>    1.9825</td> <td>    0.041</td> <td>   48.048</td> <td> 0.000</td> <td>    1.902</td> <td>    2.063</td>\n",
       "</tr>\n",
       "<tr>\n",
       "  <th> HIV/AIDS</th>  <td>   -0.6694</td> <td>    0.019</td> <td>  -35.025</td> <td> 0.000</td> <td>   -0.707</td> <td>   -0.632</td>\n",
       "</tr>\n",
       "</table>\n",
       "<table class=\"simpletable\">\n",
       "<tr>\n",
       "  <th>Omnibus:</th>       <td>16.917</td> <th>  Durbin-Watson:     </th> <td>   0.313</td>\n",
       "</tr>\n",
       "<tr>\n",
       "  <th>Prob(Omnibus):</th> <td> 0.000</td> <th>  Jarque-Bera (JB):  </th> <td>  20.724</td>\n",
       "</tr>\n",
       "<tr>\n",
       "  <th>Skew:</th>          <td>-0.158</td> <th>  Prob(JB):          </th> <td>3.16e-05</td>\n",
       "</tr>\n",
       "<tr>\n",
       "  <th>Kurtosis:</th>      <td> 3.449</td> <th>  Cond. No.          </th> <td>3.36e+08</td>\n",
       "</tr>\n",
       "</table><br/><br/>Notes:<br/>[1] Standard Errors assume that the covariance matrix of the errors is correctly specified.<br/>[2] The condition number is large, 3.36e+08. This might indicate that there are<br/>strong multicollinearity or other numerical problems."
      ],
      "text/plain": [
       "<class 'statsmodels.iolib.summary.Summary'>\n",
       "\"\"\"\n",
       "                            OLS Regression Results                            \n",
       "==============================================================================\n",
       "Dep. Variable:       Life expectancy    R-squared:                       0.730\n",
       "Model:                            OLS   Adj. R-squared:                  0.730\n",
       "Method:                 Least Squares   F-statistic:                     1486.\n",
       "Date:                Thu, 24 Mar 2022   Prob (F-statistic):               0.00\n",
       "Time:                        13:32:42   Log-Likelihood:                -4843.9\n",
       "No. Observations:                1649   AIC:                             9696.\n",
       "Df Residuals:                    1645   BIC:                             9717.\n",
       "Df Model:                           3                                         \n",
       "Covariance Type:            nonrobust                                         \n",
       "==============================================================================\n",
       "                 coef    std err          t      P>|t|      [0.025      0.975]\n",
       "------------------------------------------------------------------------------\n",
       "const         46.6199      0.523     89.061      0.000      45.593      47.647\n",
       "Population -1.207e-09    1.6e-09     -0.754      0.451   -4.35e-09    1.93e-09\n",
       "Schooling      1.9825      0.041     48.048      0.000       1.902       2.063\n",
       " HIV/AIDS     -0.6694      0.019    -35.025      0.000      -0.707      -0.632\n",
       "==============================================================================\n",
       "Omnibus:                       16.917   Durbin-Watson:                   0.313\n",
       "Prob(Omnibus):                  0.000   Jarque-Bera (JB):               20.724\n",
       "Skew:                          -0.158   Prob(JB):                     3.16e-05\n",
       "Kurtosis:                       3.449   Cond. No.                     3.36e+08\n",
       "==============================================================================\n",
       "\n",
       "Notes:\n",
       "[1] Standard Errors assume that the covariance matrix of the errors is correctly specified.\n",
       "[2] The condition number is large, 3.36e+08. This might indicate that there are\n",
       "strong multicollinearity or other numerical problems.\n",
       "\"\"\""
      ]
     },
     "execution_count": 123,
     "metadata": {},
     "output_type": "execute_result"
    }
   ],
   "source": [
    "results_multi.summary()"
   ]
  },
  {
   "cell_type": "markdown",
   "id": "1281c96e",
   "metadata": {},
   "source": [
    "The p-value for the coefficients test against the hypothesis that the coefficients are zero under the null. Population has a p-value greater than 0.05 so its probably not too important of a variable assuming linearity of the model."
   ]
  },
  {
   "cell_type": "markdown",
   "id": "14613306",
   "metadata": {},
   "source": [
    "Q17: Is your modeling performing better or worse? Why?"
   ]
  },
  {
   "cell_type": "markdown",
   "id": "167c0213",
   "metadata": {},
   "source": [
    "This model is clearly better. It explains 73% of the variance in life expectancy as opposed to only 50%. Including HIV/AIDS prevalence along with average years of schooling really help us out."
   ]
  },
  {
   "cell_type": "markdown",
   "id": "c2df0a01",
   "metadata": {},
   "source": [
    "Q18: Explain what the adjusted $R^2$ is and how it is different than $R^2$. Just in words, no need for formulas."
   ]
  },
  {
   "cell_type": "markdown",
   "id": "ceb59ca5",
   "metadata": {},
   "source": [
    "Adding variables to your model with no predictive power $R^2$ can remain the same. Adjusted $R^2$ is a metric that measures model quality by also penalizes for useless variables. As you add more variables that don't help much in explaining the variance of the target adjusted $R^2$ becomes lower."
   ]
  },
  {
   "cell_type": "markdown",
   "id": "7f04cdc2",
   "metadata": {},
   "source": [
    "Q19: Bayes"
   ]
  },
  {
   "cell_type": "markdown",
   "id": "d16ed274",
   "metadata": {},
   "source": [
    "\n",
    "\n",
    "Suppose some rare disease affects 1 in 100,000 people. There is a test for it, though it is imperfect: 5% of the people who have the disease will test negative and 4% of the people who don't have the disease will test positive for it. You take the test and test positive. Before the test the probability that you had the disease was only 1 in 100,000. But now, with this new information of the positive test, how should you judge the probability that you have the disease?\n",
    "\n",
    "\n",
    "\n",
    "We can use Bayes's Theorem:\n",
    "\n",
    "<br>\n",
    "$$P(h | e) = \\frac{P(e | h)P(h)}{P(e)}$$\n",
    "\n",
    "\n",
    "What are $h$ and $e$ in this case?\n",
    "\n",
    "\n",
    "To calculate the denominator, we'll need to make use of the **Rule of Total Evidence**: <br/><br/>\n",
    "\n",
    "$$ P(e) = P(e | h_1)P(h_1) + ... + P(e | h_n)P(h_n) $$\n",
    "\n",
    "\n",
    "In our case, there are only two possibilities: Either I have the disease or I do not."
   ]
  },
  {
   "cell_type": "markdown",
   "id": "d8bc4025",
   "metadata": {},
   "source": [
    "- h is a binary random variable for having the disease.\n",
    "- e is a binary random variable signifying whether the test came out positive or negative"
   ]
  },
  {
   "cell_type": "code",
   "execution_count": 124,
   "id": "efd0a085",
   "metadata": {},
   "outputs": [
    {
     "data": {
      "text/plain": [
       "0.00023744598103931353"
      ]
     },
     "execution_count": 124,
     "metadata": {},
     "output_type": "execute_result"
    }
   ],
   "source": [
    "# prior on having the disease before testing\n",
    "#i.e. p(h = 1)\n",
    "prior = 1/100000\n",
    "\n",
    "# probability that e = 0 testing negative, given the person has the disease\n",
    "alpha = 0.05\n",
    "\n",
    "# probability that e = 1 testing positive, given the person has the disease\n",
    "# p(e = 1|h = 1)\n",
    "\n",
    "alpha_c = 1 - 0.05\n",
    "\n",
    "\n",
    "# we want that the probability that you have the disease given you got a positive test\n",
    "\n",
    "#p(h=1|e=1).\n",
    "\n",
    "\n",
    "(prior * alpha_c) / (prior * 0.95 + 0.04 * (1 - prior))"
   ]
  },
  {
   "cell_type": "code",
   "execution_count": null,
   "id": "4c70a91a",
   "metadata": {},
   "outputs": [],
   "source": []
  }
 ],
 "metadata": {
  "kernelspec": {
   "display_name": "Python 3 (ipykernel)",
   "language": "python",
   "name": "python3"
  },
  "language_info": {
   "codemirror_mode": {
    "name": "ipython",
    "version": 3
   },
   "file_extension": ".py",
   "mimetype": "text/x-python",
   "name": "python",
   "nbconvert_exporter": "python",
   "pygments_lexer": "ipython3",
   "version": "3.9.7"
  }
 },
 "nbformat": 4,
 "nbformat_minor": 5
}
