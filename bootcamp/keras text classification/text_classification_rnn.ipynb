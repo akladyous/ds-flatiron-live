{
 "cells": [
  {
   "cell_type": "markdown",
   "metadata": {
    "id": "hX4n9TsbGw-f"
   },
   "source": [
    "##### Copyright 2018 The TensorFlow Authors."
   ]
  },
  {
   "cell_type": "code",
   "execution_count": 1,
   "metadata": {
    "cellView": "form",
    "execution": {
     "iopub.execute_input": "2021-05-07T04:39:27.958730Z",
     "iopub.status.busy": "2021-05-07T04:39:27.957991Z",
     "iopub.status.idle": "2021-05-07T04:39:27.964099Z",
     "shell.execute_reply": "2021-05-07T04:39:27.963260Z",
     "shell.execute_reply.started": "2021-05-07T04:39:27.958551Z"
    },
    "id": "0nbI5DtDGw-i",
    "tags": []
   },
   "outputs": [],
   "source": [
    "#@title Licensed under the Apache License, Version 2.0 (the \"License\");\n",
    "# you may not use this file except in compliance with the License.\n",
    "# You may obtain a copy of the License at\n",
    "#\n",
    "# https://www.apache.org/licenses/LICENSE-2.0\n",
    "#\n",
    "# Unless required by applicable law or agreed to in writing, software\n",
    "# distributed under the License is distributed on an \"AS IS\" BASIS,\n",
    "# WITHOUT WARRANTIES OR CONDITIONS OF ANY KIND, either express or implied.\n",
    "# See the License for the specific language governing permissions and\n",
    "# limitations under the License."
   ]
  },
  {
   "cell_type": "markdown",
   "metadata": {
    "id": "9TnJztDZGw-n"
   },
   "source": [
    "# Text classification with an RNN"
   ]
  },
  {
   "cell_type": "markdown",
   "metadata": {
    "id": "AfN3bMR5Gw-o"
   },
   "source": [
    "<table class=\"tfo-notebook-buttons\" align=\"left\">\n",
    "  <td>\n",
    "    <a target=\"_blank\" href=\"https://www.tensorflow.org/tutorials/text/text_classification_rnn\"><img src=\"https://www.tensorflow.org/images/tf_logo_32px.png\" />View on TensorFlow.org</a>\n",
    "  </td>\n",
    "  <td>\n",
    "    <a target=\"_blank\" href=\"https://colab.research.google.com/github/tensorflow/docs/blob/master/site/en/tutorials/text/text_classification_rnn.ipynb\"><img src=\"https://www.tensorflow.org/images/colab_logo_32px.png\" />Run in Google Colab</a>\n",
    "  </td>\n",
    "  <td>\n",
    "    <a target=\"_blank\" href=\"https://github.com/tensorflow/docs/blob/master/site/en/tutorials/text/text_classification_rnn.ipynb\"><img src=\"https://www.tensorflow.org/images/GitHub-Mark-32px.png\" />View source on GitHub</a>\n",
    "  </td>\n",
    "  <td>\n",
    "    <a href=\"https://storage.googleapis.com/tensorflow_docs/docs/site/en/tutorials/text/text_classification_rnn.ipynb\"><img src=\"https://www.tensorflow.org/images/download_logo_32px.png\" />Download notebook</a>\n",
    "  </td>\n",
    "</table>"
   ]
  },
  {
   "cell_type": "markdown",
   "metadata": {
    "id": "lUWearf0Gw-p"
   },
   "source": [
    "This text classification tutorial trains a [recurrent neural network](https://developers.google.com/machine-learning/glossary/#recurrent_neural_network) on the [IMDB large movie review dataset](http://ai.stanford.edu/~amaas/data/sentiment/) for sentiment analysis."
   ]
  },
  {
   "cell_type": "markdown",
   "metadata": {
    "id": "_2VQo4bajwUU"
   },
   "source": [
    "## Setup"
   ]
  },
  {
   "cell_type": "code",
   "execution_count": 2,
   "metadata": {
    "execution": {
     "iopub.execute_input": "2021-05-07T04:39:29.324505Z",
     "iopub.status.busy": "2021-05-07T04:39:29.323864Z",
     "iopub.status.idle": "2021-05-07T04:39:31.031916Z",
     "shell.execute_reply": "2021-05-07T04:39:31.031515Z",
     "shell.execute_reply.started": "2021-05-07T04:39:29.324438Z"
    },
    "id": "z682XYsrjkY9",
    "tags": []
   },
   "outputs": [],
   "source": [
    "import numpy as np\n",
    "\n",
    "import tensorflow_datasets as tfds\n",
    "import tensorflow as tf\n",
    "\n",
    "tfds.disable_progress_bar()"
   ]
  },
  {
   "cell_type": "markdown",
   "metadata": {
    "id": "1rXHa-w9JZhb"
   },
   "source": [
    "Import `matplotlib` and create a helper function to plot graphs:"
   ]
  },
  {
   "cell_type": "code",
   "execution_count": 3,
   "metadata": {
    "execution": {
     "iopub.execute_input": "2021-05-07T04:39:31.032790Z",
     "iopub.status.busy": "2021-05-07T04:39:31.032697Z",
     "iopub.status.idle": "2021-05-07T04:39:31.209931Z",
     "shell.execute_reply": "2021-05-07T04:39:31.209568Z",
     "shell.execute_reply.started": "2021-05-07T04:39:31.032778Z"
    },
    "id": "Mp1Z7P9pYRSK",
    "tags": []
   },
   "outputs": [],
   "source": [
    "import matplotlib.pyplot as plt\n",
    "\n",
    "\n",
    "def plot_graphs(history, metric):\n",
    "  plt.plot(history.history[metric])\n",
    "  plt.plot(history.history['val_'+metric], '')\n",
    "  plt.xlabel(\"Epochs\")\n",
    "  plt.ylabel(metric)\n",
    "  plt.legend([metric, 'val_'+metric])"
   ]
  },
  {
   "cell_type": "markdown",
   "metadata": {
    "id": "pRmMubr0jrE2"
   },
   "source": [
    "## Setup input pipeline\n",
    "\n",
    "\n",
    "The IMDB large movie review dataset is a *binary classification* dataset—all the reviews have either a *positive* or *negative* sentiment.\n",
    "\n",
    "Download the dataset using [TFDS](https://www.tensorflow.org/datasets). See the [loading text tutorial](../load_data/text.ipynb) for details on how to load this sort of data manually.\n"
   ]
  },
  {
   "cell_type": "code",
   "execution_count": 4,
   "metadata": {
    "colab": {
     "base_uri": "https://localhost:8080/"
    },
    "execution": {
     "iopub.execute_input": "2021-05-07T04:39:31.210992Z",
     "iopub.status.busy": "2021-05-07T04:39:31.210901Z",
     "iopub.status.idle": "2021-05-07T04:39:31.277715Z",
     "shell.execute_reply": "2021-05-07T04:39:31.277349Z",
     "shell.execute_reply.started": "2021-05-07T04:39:31.210980Z"
    },
    "id": "SHRwRoP2nVHX",
    "outputId": "30e1227d-9ff4-460b-dc6b-0b20f78e4888",
    "tags": []
   },
   "outputs": [
    {
     "name": "stderr",
     "output_type": "stream",
     "text": [
      "WARNING:absl:Warning: Setting shuffle_files=True because split=TRAIN and shuffle_files=None. This behavior will be deprecated on 2019-08-06, at which point shuffle_files=False will be the default for all splits.\n"
     ]
    },
    {
     "data": {
      "text/plain": [
       "(TensorSpec(shape=(), dtype=tf.string, name=None),\n",
       " TensorSpec(shape=(), dtype=tf.int64, name=None))"
      ]
     },
     "execution_count": 4,
     "metadata": {},
     "output_type": "execute_result"
    }
   ],
   "source": [
    "dataset, info = tfds.load('imdb_reviews', with_info=True,\n",
    "                          as_supervised=True)\n",
    "train_dataset, test_dataset = dataset['train'], dataset['test']\n",
    "\n",
    "train_dataset.element_spec"
   ]
  },
  {
   "cell_type": "markdown",
   "metadata": {
    "id": "nWA4c2ir7g6p"
   },
   "source": [
    "Initially this returns a dataset of (text, label pairs):"
   ]
  },
  {
   "cell_type": "code",
   "execution_count": 5,
   "metadata": {
    "colab": {
     "base_uri": "https://localhost:8080/"
    },
    "execution": {
     "iopub.execute_input": "2021-05-07T04:39:31.278840Z",
     "iopub.status.busy": "2021-05-07T04:39:31.278720Z",
     "iopub.status.idle": "2021-05-07T04:39:31.367212Z",
     "shell.execute_reply": "2021-05-07T04:39:31.366858Z",
     "shell.execute_reply.started": "2021-05-07T04:39:31.278827Z"
    },
    "id": "vd4_BGKyurao",
    "outputId": "e6858023-188f-4742-9af0-6c5e849a6aef",
    "tags": []
   },
   "outputs": [
    {
     "name": "stdout",
     "output_type": "stream",
     "text": [
      "text:  b\"There are many people in our lives that we meet only once in our lifetime, but for some reason or another we remember those persons for the rest of our lives. These once in a lifetime friendships occur between people with long distances between and there are always some natural reasons for why we don't meet these people anymore. We don't always even know their names, as we are never presented to each other, and sometimes we even forget to ask what their names are. It's funny how common humanity makes occasional friends and we like to keep it as such, because reuniting might spoil fond memories, or we don't know do they. We are too afraid to check that out.<br /><br />The movie 'Before Sunrise' just caught me watching it. I never had intention to watch it through, but because the discussion between the couple seemed interesting, I gave a look for the rest of the film. I didn't know what to expect from it, but nor did the young couple. They had time to discuss with each other until the sunrise and anything could happen before they had to separate. I believe this film has had good reviews because the situation is something that everybody on this planet has at least once or twice lived through. It makes us all think about all those people we have met only once in our lives.\"\n",
      "label:  1\n"
     ]
    }
   ],
   "source": [
    "for example, label in train_dataset.take(1):\n",
    "  print('text: ', example.numpy())\n",
    "  print('label: ', label.numpy())"
   ]
  },
  {
   "cell_type": "markdown",
   "metadata": {
    "id": "z2qVJzcEluH_"
   },
   "source": [
    "Next shuffle the data for training and create batches of these `(text, label)` pairs:"
   ]
  },
  {
   "cell_type": "code",
   "execution_count": 6,
   "metadata": {
    "execution": {
     "iopub.execute_input": "2021-05-07T04:39:32.400599Z",
     "iopub.status.busy": "2021-05-07T04:39:32.400263Z",
     "iopub.status.idle": "2021-05-07T04:39:32.406565Z",
     "shell.execute_reply": "2021-05-07T04:39:32.405804Z",
     "shell.execute_reply.started": "2021-05-07T04:39:32.400567Z"
    },
    "tags": []
   },
   "outputs": [
    {
     "data": {
      "text/plain": [
       "1"
      ]
     },
     "execution_count": 6,
     "metadata": {},
     "output_type": "execute_result"
    }
   ],
   "source": [
    "label.numpy()"
   ]
  },
  {
   "cell_type": "code",
   "execution_count": 7,
   "metadata": {
    "execution": {
     "iopub.execute_input": "2021-05-07T04:39:32.583288Z",
     "iopub.status.busy": "2021-05-07T04:39:32.582654Z",
     "iopub.status.idle": "2021-05-07T04:39:32.589769Z",
     "shell.execute_reply": "2021-05-07T04:39:32.588353Z",
     "shell.execute_reply.started": "2021-05-07T04:39:32.583223Z"
    },
    "id": "dDsCaZCDYZgm",
    "tags": []
   },
   "outputs": [],
   "source": [
    "BUFFER_SIZE = 10000\n",
    "BATCH_SIZE = 64"
   ]
  },
  {
   "cell_type": "code",
   "execution_count": 8,
   "metadata": {
    "execution": {
     "iopub.execute_input": "2021-05-07T04:39:32.744833Z",
     "iopub.status.busy": "2021-05-07T04:39:32.744199Z",
     "iopub.status.idle": "2021-05-07T04:39:32.753055Z",
     "shell.execute_reply": "2021-05-07T04:39:32.752049Z",
     "shell.execute_reply.started": "2021-05-07T04:39:32.744765Z"
    },
    "id": "VznrltNOnUc5",
    "tags": []
   },
   "outputs": [],
   "source": [
    "train_dataset = train_dataset.shuffle(BUFFER_SIZE).batch(BATCH_SIZE).prefetch(tf.data.AUTOTUNE)\n",
    "test_dataset = test_dataset.batch(BATCH_SIZE).prefetch(tf.data.AUTOTUNE)"
   ]
  },
  {
   "cell_type": "code",
   "execution_count": 9,
   "metadata": {
    "colab": {
     "base_uri": "https://localhost:8080/"
    },
    "execution": {
     "iopub.execute_input": "2021-05-07T04:39:32.878474Z",
     "iopub.status.busy": "2021-05-07T04:39:32.877677Z",
     "iopub.status.idle": "2021-05-07T04:39:33.131047Z",
     "shell.execute_reply": "2021-05-07T04:39:33.130657Z",
     "shell.execute_reply.started": "2021-05-07T04:39:32.878400Z"
    },
    "id": "jqkvdcFv41wC",
    "outputId": "b7bd1bcd-f198-4cc8-a2de-df32943544c5",
    "tags": []
   },
   "outputs": [
    {
     "name": "stdout",
     "output_type": "stream",
     "text": [
      "TEXTS:  [b'I have two good things to say about this film: the scenery is beautiful and Peter Falk gives a good performance (considering what he had to work with in terms of dialog and direction). However, that said, I found this film extremely tiresome. Watching paint dry would have been more entertaining. It seemed much longer than 97 minutes. Beginning with opening sequence, where everyone is talking over each other and Paul Reiser is repeating everything that\\'s said to him on the phone, the movie is annoying. The film is filled with clich\\xc3\\xa9s and shtick, not to mention endless incidents of audible flatulence by Falk. Also, the director seems to have had difficulty deciding whether to aim for laughs or tears. There are some sequences that are touching, but they\\'re all played for laughs. If schmaltzy, sentimental, and \"cute\" appeal to you, you\\'ll love it. But if you were hoping for something with more substance, see a different movie.']\n",
      "\n",
      "LABELS:  [0]\n"
     ]
    }
   ],
   "source": [
    "for example, label in train_dataset.take(1):\n",
    "  print('TEXTS: ', example.numpy()[:1])\n",
    "  print()\n",
    "  print('LABELS: ', label.numpy()[:1])"
   ]
  },
  {
   "cell_type": "code",
   "execution_count": 10,
   "metadata": {
    "execution": {
     "iopub.execute_input": "2021-05-07T04:39:34.598399Z",
     "iopub.status.busy": "2021-05-07T04:39:34.597641Z",
     "iopub.status.idle": "2021-05-07T04:39:34.605323Z",
     "shell.execute_reply": "2021-05-07T04:39:34.603935Z",
     "shell.execute_reply.started": "2021-05-07T04:39:34.598329Z"
    },
    "tags": []
   },
   "outputs": [],
   "source": [
    "xx = train_dataset.take(-1)"
   ]
  },
  {
   "cell_type": "code",
   "execution_count": 11,
   "metadata": {
    "execution": {
     "iopub.execute_input": "2021-05-07T04:39:35.072151Z",
     "iopub.status.busy": "2021-05-07T04:39:35.071532Z",
     "iopub.status.idle": "2021-05-07T04:39:35.080827Z",
     "shell.execute_reply": "2021-05-07T04:39:35.079649Z",
     "shell.execute_reply.started": "2021-05-07T04:39:35.072084Z"
    },
    "tags": []
   },
   "outputs": [
    {
     "data": {
      "text/plain": [
       "64"
      ]
     },
     "execution_count": 11,
     "metadata": {},
     "output_type": "execute_result"
    }
   ],
   "source": [
    "example.numpy().size"
   ]
  },
  {
   "cell_type": "code",
   "execution_count": 12,
   "metadata": {
    "execution": {
     "iopub.execute_input": "2021-05-07T04:39:35.284782Z",
     "iopub.status.busy": "2021-05-07T04:39:35.284434Z",
     "iopub.status.idle": "2021-05-07T04:39:35.293690Z",
     "shell.execute_reply": "2021-05-07T04:39:35.292324Z",
     "shell.execute_reply.started": "2021-05-07T04:39:35.284748Z"
    },
    "tags": []
   },
   "outputs": [
    {
     "data": {
      "text/plain": [
       "64"
      ]
     },
     "execution_count": 12,
     "metadata": {},
     "output_type": "execute_result"
    }
   ],
   "source": [
    "label.numpy().size"
   ]
  },
  {
   "cell_type": "markdown",
   "metadata": {
    "id": "s5eWCo88voPY"
   },
   "source": [
    "## Create the text encoder"
   ]
  },
  {
   "cell_type": "markdown",
   "metadata": {
    "id": "TFevcItw15P_"
   },
   "source": [
    "The raw text loaded by `tfds` needs to be processed before it can be used in a model. The simplest way to process text for training is using the `experimental.preprocessing.TextVectorization` layer. This layer has many capabilities, but this tutorial sticks to the default behavior.\n",
    "\n",
    "Create the layer, and pass the dataset's text to the layer's `.adapt` method:"
   ]
  },
  {
   "cell_type": "code",
   "execution_count": 13,
   "metadata": {
    "execution": {
     "iopub.execute_input": "2021-05-07T04:39:37.057055Z",
     "iopub.status.busy": "2021-05-07T04:39:37.056439Z",
     "iopub.status.idle": "2021-05-07T04:39:37.066980Z",
     "shell.execute_reply": "2021-05-07T04:39:37.065898Z",
     "shell.execute_reply.started": "2021-05-07T04:39:37.056988Z"
    },
    "tags": []
   },
   "outputs": [
    {
     "data": {
      "text/plain": [
       "<PrefetchDataset shapes: ((None,), (None,)), types: (tf.string, tf.int64)>"
      ]
     },
     "execution_count": 13,
     "metadata": {},
     "output_type": "execute_result"
    }
   ],
   "source": [
    "train_dataset"
   ]
  },
  {
   "cell_type": "code",
   "execution_count": 14,
   "metadata": {
    "execution": {
     "iopub.execute_input": "2021-05-07T04:39:37.243717Z",
     "iopub.status.busy": "2021-05-07T04:39:37.243093Z",
     "iopub.status.idle": "2021-05-07T04:39:39.714797Z",
     "shell.execute_reply": "2021-05-07T04:39:39.714455Z",
     "shell.execute_reply.started": "2021-05-07T04:39:37.243647Z"
    },
    "id": "uC25Lu1Yvuqy",
    "tags": []
   },
   "outputs": [],
   "source": [
    "VOCAB_SIZE = 1000\n",
    "encoder = tf.keras.layers.experimental.preprocessing.TextVectorization() # max_tokens=VOCAB_SIZE\n",
    "encoder.adapt(train_dataset.map(lambda text, label: text))"
   ]
  },
  {
   "cell_type": "code",
   "execution_count": 15,
   "metadata": {
    "execution": {
     "iopub.execute_input": "2021-05-07T04:39:39.715689Z",
     "iopub.status.busy": "2021-05-07T04:39:39.715589Z",
     "iopub.status.idle": "2021-05-07T04:39:39.728372Z",
     "shell.execute_reply": "2021-05-07T04:39:39.727798Z",
     "shell.execute_reply.started": "2021-05-07T04:39:39.715677Z"
    },
    "tags": []
   },
   "outputs": [
    {
     "data": {
      "text/plain": [
       "<MapDataset shapes: (None,), types: tf.string>"
      ]
     },
     "execution_count": 15,
     "metadata": {},
     "output_type": "execute_result"
    }
   ],
   "source": [
    "train_dataset.map(lambda text, label: text)"
   ]
  },
  {
   "cell_type": "markdown",
   "metadata": {
    "id": "IuQzVBbe3Ldu"
   },
   "source": [
    "The `.adapt` method sets the layer's vocabulary. Here are the first 20 tokens. After the padding and unknown tokens they're sorted by frequency: "
   ]
  },
  {
   "cell_type": "code",
   "execution_count": 16,
   "metadata": {
    "colab": {
     "base_uri": "https://localhost:8080/"
    },
    "execution": {
     "iopub.execute_input": "2021-05-07T04:39:39.729996Z",
     "iopub.status.busy": "2021-05-07T04:39:39.729764Z",
     "iopub.status.idle": "2021-05-07T04:39:39.895675Z",
     "shell.execute_reply": "2021-05-07T04:39:39.895286Z",
     "shell.execute_reply.started": "2021-05-07T04:39:39.729976Z"
    },
    "id": "tBoyjjWg0Ac9",
    "outputId": "f7d6f7e7-4ef4-4a15-8cf7-d1064136c46e",
    "tags": []
   },
   "outputs": [
    {
     "data": {
      "text/plain": [
       "array(['', '[UNK]', 'the', 'and', 'a', 'of', 'to', 'is', 'in', 'it', 'i',\n",
       "       'this', 'that', 'br', 'was', 'as', 'for', 'with', 'movie', 'but'],\n",
       "      dtype='<U64')"
      ]
     },
     "execution_count": 16,
     "metadata": {},
     "output_type": "execute_result"
    }
   ],
   "source": [
    "vocab = np.array(encoder.get_vocabulary())\n",
    "vocab[:20]"
   ]
  },
  {
   "cell_type": "code",
   "execution_count": 17,
   "metadata": {
    "execution": {
     "iopub.execute_input": "2021-05-07T04:39:39.896669Z",
     "iopub.status.busy": "2021-05-07T04:39:39.896554Z",
     "iopub.status.idle": "2021-05-07T04:39:39.899750Z",
     "shell.execute_reply": "2021-05-07T04:39:39.899263Z",
     "shell.execute_reply.started": "2021-05-07T04:39:39.896655Z"
    },
    "tags": []
   },
   "outputs": [
    {
     "data": {
      "text/plain": [
       "(121894,)"
      ]
     },
     "execution_count": 17,
     "metadata": {},
     "output_type": "execute_result"
    }
   ],
   "source": [
    "vocab.shape"
   ]
  },
  {
   "cell_type": "markdown",
   "metadata": {
    "id": "mjId5pua3jHQ"
   },
   "source": [
    "Once the vocabulary is set, the layer can encode text into indices. The tensors of indices are 0-padded to the longest sequence in the batch (unless you set a fixed `output_sequence_length`):"
   ]
  },
  {
   "cell_type": "code",
   "execution_count": 18,
   "metadata": {
    "colab": {
     "base_uri": "https://localhost:8080/"
    },
    "execution": {
     "iopub.execute_input": "2021-05-07T04:39:42.011097Z",
     "iopub.status.busy": "2021-05-07T04:39:42.010371Z",
     "iopub.status.idle": "2021-05-07T04:39:42.035706Z",
     "shell.execute_reply": "2021-05-07T04:39:42.035160Z",
     "shell.execute_reply.started": "2021-05-07T04:39:42.011021Z"
    },
    "id": "RGc7C9WiwRWs",
    "outputId": "c31623ad-9592-44e2-81ed-38eb44c9e07f",
    "tags": []
   },
   "outputs": [
    {
     "data": {
      "text/plain": [
       "array([[  10,   26,  105, ...,    0,    0,    0],\n",
       "       [ 881, 8412,   59, ...,    0,    0,    0],\n",
       "       [1313,  755,    5, ...,    0,    0,    0]])"
      ]
     },
     "execution_count": 18,
     "metadata": {},
     "output_type": "execute_result"
    }
   ],
   "source": [
    "encoded_example = encoder(example)[:3].numpy()\n",
    "encoded_example"
   ]
  },
  {
   "cell_type": "code",
   "execution_count": 19,
   "metadata": {
    "colab": {
     "base_uri": "https://localhost:8080/"
    },
    "execution": {
     "iopub.execute_input": "2021-05-07T04:39:42.180171Z",
     "iopub.status.busy": "2021-05-07T04:39:42.179794Z",
     "iopub.status.idle": "2021-05-07T04:39:42.185182Z",
     "shell.execute_reply": "2021-05-07T04:39:42.184479Z",
     "shell.execute_reply.started": "2021-05-07T04:39:42.180137Z"
    },
    "id": "pQHsp8lxtQq6",
    "outputId": "cc5867e5-7894-4299-e441-b7dea4692454",
    "tags": []
   },
   "outputs": [
    {
     "data": {
      "text/plain": [
       "(3, 813)"
      ]
     },
     "execution_count": 19,
     "metadata": {},
     "output_type": "execute_result"
    }
   ],
   "source": [
    "encoded_example.shape"
   ]
  },
  {
   "cell_type": "markdown",
   "metadata": {
    "id": "F5cjz0bS39IN"
   },
   "source": [
    "With the default settings, the process is not completely reversible. There are three main reasons for that:\n",
    "\n",
    "1. The default value for `preprocessing.TextVectorization`'s `standardize` argument is `\"lower_and_strip_punctuation\"`.\n",
    "2. The limited vocabulary size and lack of character-based fallback results in some unknown tokens."
   ]
  },
  {
   "cell_type": "code",
   "execution_count": 21,
   "metadata": {
    "colab": {
     "base_uri": "https://localhost:8080/"
    },
    "execution": {
     "iopub.execute_input": "2021-05-07T04:42:00.233854Z",
     "iopub.status.busy": "2021-05-07T04:42:00.233270Z",
     "iopub.status.idle": "2021-05-07T04:42:00.243145Z",
     "shell.execute_reply": "2021-05-07T04:42:00.242147Z",
     "shell.execute_reply.started": "2021-05-07T04:42:00.233789Z"
    },
    "id": "N_tD0QY5wXaK",
    "outputId": "b8ed8442-5a0d-49b6-b6e9-c849136ef980",
    "tags": []
   },
   "outputs": [
    {
     "name": "stdout",
     "output_type": "stream",
     "text": [
      "Original:  b'I have two good things to say about this film: the scenery is beautiful and Peter Falk gives a good performance (considering what he had to work with in terms of dialog and direction). However, that said, I found this film extremely tiresome. Watching paint dry would have been more entertaining. It seemed much longer than 97 minutes. Beginning with opening sequence, where everyone is talking over each other and Paul Reiser is repeating everything that\\'s said to him on the phone, the movie is annoying. The film is filled with clich\\xc3\\xa9s and shtick, not to mention endless incidents of audible flatulence by Falk. Also, the director seems to have had difficulty deciding whether to aim for laughs or tears. There are some sequences that are touching, but they\\'re all played for laughs. If schmaltzy, sentimental, and \"cute\" appeal to you, you\\'ll love it. But if you were hoping for something with more substance, see a different movie.'\n",
      "Round-trip:  i have two good things to say about this film the scenery is beautiful and peter falk gives a good performance considering what he had to work with in terms of dialog and direction however that said i found this film extremely tiresome watching paint dry would have been more entertaining it seemed much longer than 97 minutes beginning with opening sequence where everyone is talking over each other and paul reiser is repeating everything thats said to him on the phone the movie is annoying the film is filled with clichés and shtick not to mention endless incidents of audible flatulence by falk also the director seems to have had difficulty deciding whether to aim for laughs or tears there are some sequences that are touching but theyre all played for laughs if schmaltzy sentimental and cute appeal to you youll love it but if you were hoping for something with more substance see a different movie                                                                                                                                                                                                                                                                                                                                                                                                                                                                                                                                                                                                                                                                               \n",
      "\n",
      "Original:  b\"Dr. Seuss would sure be mad right now if he was alive. Cat in the Hat proves to show how movie productions can take a classic story and turn it into a mindless pile of goop. We have Mike Myers as the infamous Cat in the Hat, big mistake! Myers proves he can't act in this film. He acts like a prissy show girl with a thousand tricks up his sleeve. The kids in this movie are all right, somewhere in between the lines of dull and annoying. The story is just like the original with a couple of tweaks and like most movies based on other stories, never tweak with the original story! Bringing in the evil neighbor Quin was a bad idea. He is a stupid villain that would never get anywhere in life.This movie is like a rejected comic strip from the newspaper if you think about it. The film sure does look tacky! Sure there are a funny adult jokes like where the cat cuts of his tail and the censor goes off before he says a naughty word, mildly funny. At least the Grinch had spunk, and the film was actually good! This film is a cartoonish piece of snot with bright colors and bad mediocre acting. Was Mike Myers even in this movie actually? And another thing, the fish. What is with that stupid fish! First time you see him, he's an actual fish. Next time you see him, he's all animated and talking. But he looks like an animated piece of rubber play dough! This film is a total off target wreck. Good joke, bad joke, bad, bad, bad, good joke! I'm surprised it even had good jokes like the water park ride joke, that was good. So please if you have the choice, watch the Grinch instead of this mess.\"\n",
      "Round-trip:  dr seuss would sure be mad right now if he was alive cat in the hat proves to show how movie productions can take a classic story and turn it into a mindless pile of goop we have mike myers as the infamous cat in the hat big mistake myers proves he cant act in this film he acts like a prissy show girl with a thousand tricks up his sleeve the kids in this movie are all right somewhere in between the lines of dull and annoying the story is just like the original with a couple of tweaks and like most movies based on other stories never tweak with the original story bringing in the evil neighbor quin was a bad idea he is a stupid villain that would never get anywhere in lifethis movie is like a rejected comic strip from the newspaper if you think about it the film sure does look tacky sure there are a funny adult jokes like where the cat cuts of his tail and the censor goes off before he says a naughty word mildly funny at least the grinch had spunk and the film was actually good this film is a cartoonish piece of snot with bright colors and bad mediocre acting was mike myers even in this movie actually and another thing the fish what is with that stupid fish first time you see him hes an actual fish next time you see him hes all animated and talking but he looks like an animated piece of rubber play dough this film is a total off target wreck good joke bad joke bad bad bad good joke im surprised it even had good jokes like the water park ride joke that was good so please if you have the choice watch the grinch instead of this mess                                                                                                                                                                                                                                                                                                                                                                                                                                                                                                                         \n",
      "\n"
     ]
    }
   ],
   "source": [
    "for n in range(2):\n",
    "  print(\"Original: \", example[n].numpy())\n",
    "  print(\"Round-trip: \", \" \".join(vocab[encoded_example[n]]))\n",
    "  print()"
   ]
  },
  {
   "cell_type": "markdown",
   "metadata": {
    "id": "bjUqGVBxGw-t"
   },
   "source": [
    "## Create the model"
   ]
  },
  {
   "cell_type": "markdown",
   "metadata": {
    "id": "W7zsmInBOCPO"
   },
   "source": [
    "![A drawing of the information flow in the model](https://github.com/tensorflow/docs/blob/master/site/en/tutorials/text/images/bidirectional.png?raw=1)"
   ]
  },
  {
   "cell_type": "markdown",
   "metadata": {
    "id": "bgs6nnSTGw-t"
   },
   "source": [
    "Above is a diagram of the model. \n",
    "\n",
    "1. This model can be build as a `tf.keras.Sequential`.\n",
    "\n",
    "2. The first layer is the `encoder`, which converts the text to a sequence of token indices.\n",
    "\n",
    "3. After the encoder is an embedding layer. An embedding layer stores one vector per word. When called, it converts the sequences of word indices to sequences of vectors. These vectors are trainable. After training (on enough data), words with similar meanings often have similar vectors.\n",
    "\n",
    "  This index-lookup is much more efficient than the equivalent operation of passing a one-hot encoded vector through a `tf.keras.layers.Dense` layer.\n",
    "\n",
    "4. A recurrent neural network (RNN) processes sequence input by iterating through the elements. RNNs pass the outputs from one timestep to their input on the next timestep.\n",
    "\n",
    "  The `tf.keras.layers.Bidirectional` wrapper can also be used with an RNN layer. This propagates the input forward and backwards through the RNN layer and then concatenates the final output. \n",
    "\n",
    "  * The main advantage of a bidirectional RNN is that the signal from the beginning of the input doesn't need to be processed all the way through every timestep to affect the output.  \n",
    "\n",
    "  * The main disadvantage of a bidirectional RNN is that you can't efficiently stream predictions as words are being added to the end.\n",
    "\n",
    "5. After the RNN has converted the sequence to a single vector the two `layers.Dense` do some final processing, and convert from this vector representation to a single logit as the classification output. \n"
   ]
  },
  {
   "cell_type": "markdown",
   "metadata": {
    "id": "V4fodCI7soQi"
   },
   "source": [
    "The code to implement this is below:"
   ]
  },
  {
   "cell_type": "code",
   "execution_count": 132,
   "metadata": {
    "execution": {
     "iopub.execute_input": "2021-05-07T03:57:51.060297Z",
     "iopub.status.busy": "2021-05-07T03:57:51.059379Z",
     "iopub.status.idle": "2021-05-07T03:57:51.234109Z",
     "shell.execute_reply": "2021-05-07T03:57:51.233702Z",
     "shell.execute_reply.started": "2021-05-07T03:57:51.060217Z"
    },
    "id": "LwfoBkmRYcP3"
   },
   "outputs": [],
   "source": [
    "model = tf.keras.Sequential([\n",
    "    encoder,\n",
    "    tf.keras.layers.Embedding(\n",
    "        input_dim=len(encoder.get_vocabulary()),\n",
    "        output_dim=64,\n",
    "        # Use masking to handle the variable sequence lengths\n",
    "        mask_zero=True),\n",
    "    tf.keras.layers.Bidirectional(tf.keras.layers.LSTM(64)),\n",
    "    tf.keras.layers.Dense(64, activation='relu'),\n",
    "    tf.keras.layers.Dense(1)\n",
    "])"
   ]
  },
  {
   "cell_type": "markdown",
   "metadata": {
    "id": "QIGmIGkkouUb"
   },
   "source": [
    "Please note that Keras sequential model is used here since all the layers in the model only have single input and produce single output. In case you want to use stateful RNN layer, you might want to build your model with Keras functional API or model subclassing so that you can retrieve and reuse the RNN layer states. Please check [Keras RNN guide](https://www.tensorflow.org/guide/keras/rnn#rnn_state_reuse) for more details."
   ]
  },
  {
   "cell_type": "markdown",
   "metadata": {
    "id": "kF-PsCk1LwjY"
   },
   "source": [
    "The embedding layer [uses masking](https://www.tensorflow.org/guide/keras/masking_and_padding) to handle the varying sequence-lengths. All the layers after the `Embedding` support masking:"
   ]
  },
  {
   "cell_type": "code",
   "execution_count": 133,
   "metadata": {
    "colab": {
     "base_uri": "https://localhost:8080/"
    },
    "execution": {
     "iopub.execute_input": "2021-05-07T03:57:53.052498Z",
     "iopub.status.busy": "2021-05-07T03:57:53.052008Z",
     "iopub.status.idle": "2021-05-07T03:57:53.060830Z",
     "shell.execute_reply": "2021-05-07T03:57:53.059391Z",
     "shell.execute_reply.started": "2021-05-07T03:57:53.052430Z"
    },
    "id": "87a8-CwfKebw",
    "outputId": "aa9386eb-4754-499b-a916-ed6fe832b7d8"
   },
   "outputs": [
    {
     "name": "stdout",
     "output_type": "stream",
     "text": [
      "[False, True, True, True, True]\n"
     ]
    }
   ],
   "source": [
    "print([layer.supports_masking for layer in model.layers])"
   ]
  },
  {
   "cell_type": "markdown",
   "metadata": {
    "id": "ZlS0iaUIWLpI"
   },
   "source": [
    "To confirm that this works as expected, evaluate a sentence twice. First, alone so there's no padding to mask:"
   ]
  },
  {
   "cell_type": "code",
   "execution_count": 134,
   "metadata": {
    "colab": {
     "base_uri": "https://localhost:8080/"
    },
    "execution": {
     "iopub.execute_input": "2021-05-07T03:57:53.945942Z",
     "iopub.status.busy": "2021-05-07T03:57:53.945323Z",
     "iopub.status.idle": "2021-05-07T03:57:56.571111Z",
     "shell.execute_reply": "2021-05-07T03:57:56.570788Z",
     "shell.execute_reply.started": "2021-05-07T03:57:53.945898Z"
    },
    "id": "O41gw3KfWHus",
    "outputId": "80aec5da-8846-481a-e8b6-0bafb133ed4b"
   },
   "outputs": [
    {
     "name": "stdout",
     "output_type": "stream",
     "text": [
      "[0.00896272]\n"
     ]
    }
   ],
   "source": [
    "# predict on a sample text without padding.\n",
    "\n",
    "sample_text = ('The movie was cool. The animation and the graphics '\n",
    "               'were out of this world. I would recommend this movie.')\n",
    "predictions = model.predict(np.array([sample_text]))\n",
    "print(predictions[0])"
   ]
  },
  {
   "cell_type": "markdown",
   "metadata": {
    "id": "K0VQmGnEWcuz"
   },
   "source": [
    "Now, evaluate it again in a batch with a longer sentence. The result should be identical:"
   ]
  },
  {
   "cell_type": "code",
   "execution_count": 135,
   "metadata": {
    "colab": {
     "base_uri": "https://localhost:8080/"
    },
    "execution": {
     "iopub.execute_input": "2021-05-07T03:58:00.234606Z",
     "iopub.status.busy": "2021-05-07T03:58:00.233980Z",
     "iopub.status.idle": "2021-05-07T03:58:00.411435Z",
     "shell.execute_reply": "2021-05-07T03:58:00.411109Z",
     "shell.execute_reply.started": "2021-05-07T03:58:00.234537Z"
    },
    "id": "UIgpuTeFNDzq",
    "outputId": "8afa6d33-8cfa-4c1c-973b-063d68123fd8"
   },
   "outputs": [
    {
     "name": "stdout",
     "output_type": "stream",
     "text": [
      "[0.00896272]\n"
     ]
    }
   ],
   "source": [
    "# predict on a sample text with padding\n",
    "\n",
    "padding = \"the \" * 2000\n",
    "predictions = model.predict(np.array([sample_text, padding]))\n",
    "print(predictions[0])"
   ]
  },
  {
   "cell_type": "markdown",
   "metadata": {
    "id": "sRI776ZcH3Tf"
   },
   "source": [
    "Compile the Keras model to configure the training process:"
   ]
  },
  {
   "cell_type": "code",
   "execution_count": 136,
   "metadata": {
    "execution": {
     "iopub.execute_input": "2021-05-07T03:58:01.849334Z",
     "iopub.status.busy": "2021-05-07T03:58:01.848990Z",
     "iopub.status.idle": "2021-05-07T03:58:01.876500Z",
     "shell.execute_reply": "2021-05-07T03:58:01.875777Z",
     "shell.execute_reply.started": "2021-05-07T03:58:01.849300Z"
    },
    "id": "kj2xei41YZjC"
   },
   "outputs": [],
   "source": [
    "model.compile(loss=tf.keras.losses.BinaryCrossentropy(from_logits=True),\n",
    "              optimizer=tf.keras.optimizers.Adam(1e-4),\n",
    "              metrics=['accuracy'])"
   ]
  },
  {
   "cell_type": "markdown",
   "metadata": {
    "id": "zIwH3nto596k"
   },
   "source": [
    "## Train the model"
   ]
  },
  {
   "cell_type": "code",
   "execution_count": null,
   "metadata": {
    "colab": {
     "base_uri": "https://localhost:8080/"
    },
    "id": "hw86wWS4YgR2",
    "outputId": "bc9f3038-ec6c-4f7d-d6fc-c3ebec8772cc",
    "tags": []
   },
   "outputs": [],
   "source": [
    "history = model.fit(train_dataset, epochs=10,\n",
    "                    validation_data=test_dataset,\n",
    "                    validation_steps=30)"
   ]
  },
  {
   "cell_type": "code",
   "execution_count": null,
   "metadata": {
    "id": "BaNbXi43YgUT"
   },
   "outputs": [],
   "source": [
    "test_loss, test_acc = model.evaluate(test_dataset)\n",
    "\n",
    "print('Test Loss:', test_loss)\n",
    "print('Test Accuracy:', test_acc)"
   ]
  },
  {
   "cell_type": "code",
   "execution_count": null,
   "metadata": {
    "id": "OZmwt_mzaQJk"
   },
   "outputs": [],
   "source": [
    "plt.figure(figsize=(16, 8))\n",
    "plt.subplot(1, 2, 1)\n",
    "plot_graphs(history, 'accuracy')\n",
    "plt.ylim(None, 1)\n",
    "plt.subplot(1, 2, 2)\n",
    "plot_graphs(history, 'loss')\n",
    "plt.ylim(0, None)"
   ]
  },
  {
   "cell_type": "markdown",
   "metadata": {
    "id": "DwSE_386uhxD"
   },
   "source": [
    "Run a prediction on a new sentence:\n",
    "\n",
    "If the prediction is >= 0.0, it is positive else it is negative."
   ]
  },
  {
   "cell_type": "code",
   "execution_count": null,
   "metadata": {
    "id": "ZXgfQSgRW6zU"
   },
   "outputs": [],
   "source": [
    "sample_text = ('The movie was cool. The animation and the graphics '\n",
    "               'were out of this world. I would recommend this movie.')\n",
    "predictions = model.predict(np.array([sample_text]))"
   ]
  },
  {
   "cell_type": "markdown",
   "metadata": {
    "id": "7g1evcaRpTKm"
   },
   "source": [
    "## Stack two or more LSTM layers\n",
    "\n",
    "Keras recurrent layers have two available modes that are controlled by the `return_sequences` constructor argument:\n",
    "\n",
    "* If `False` it returns only the last output for each input sequence (a 2D tensor of shape (batch_size, output_features)). This is the default, used in the previous model.\n",
    "\n",
    "* If `True` the full sequences of successive outputs for each timestep is returned (a 3D tensor of shape `(batch_size, timesteps, output_features)`).\n",
    "\n",
    "Here is what the flow of information looks like with `return_sequences=True`:\n",
    "\n",
    "![layered_bidirectional](https://github.com/tensorflow/docs/blob/master/site/en/tutorials/text/images/layered_bidirectional.png?raw=1)"
   ]
  },
  {
   "cell_type": "markdown",
   "metadata": {
    "id": "wbSClCrG1z8l"
   },
   "source": [
    "The interesting thing about using an `RNN` with `return_sequences=True` is that the output still has 3-axes, like the input, so it can be passed to another RNN layer, like this:"
   ]
  },
  {
   "cell_type": "code",
   "execution_count": null,
   "metadata": {
    "id": "jo1jjO3vn0jo"
   },
   "outputs": [],
   "source": [
    "model = tf.keras.Sequential([\n",
    "    encoder,\n",
    "    tf.keras.layers.Embedding(len(encoder.get_vocabulary()), 64, mask_zero=True),\n",
    "    tf.keras.layers.Bidirectional(tf.keras.layers.LSTM(64,  return_sequences=True)),\n",
    "    tf.keras.layers.Bidirectional(tf.keras.layers.LSTM(32)),\n",
    "    tf.keras.layers.Dense(64, activation='relu'),\n",
    "    tf.keras.layers.Dropout(0.5),\n",
    "    tf.keras.layers.Dense(1)\n",
    "])"
   ]
  },
  {
   "cell_type": "code",
   "execution_count": null,
   "metadata": {
    "id": "hEPV5jVGp-is"
   },
   "outputs": [],
   "source": [
    "model.compile(loss=tf.keras.losses.BinaryCrossentropy(from_logits=True),\n",
    "              optimizer=tf.keras.optimizers.Adam(1e-4),\n",
    "              metrics=['accuracy'])"
   ]
  },
  {
   "cell_type": "code",
   "execution_count": null,
   "metadata": {
    "id": "LeSE-YjdqAeN"
   },
   "outputs": [],
   "source": [
    "history = model.fit(train_dataset, epochs=10,\n",
    "                    validation_data=test_dataset,\n",
    "                    validation_steps=30)"
   ]
  },
  {
   "cell_type": "code",
   "execution_count": null,
   "metadata": {
    "id": "_LdwilM1qPM3"
   },
   "outputs": [],
   "source": [
    "test_loss, test_acc = model.evaluate(test_dataset)\n",
    "\n",
    "print('Test Loss:', test_loss)\n",
    "print('Test Accuracy:', test_acc)"
   ]
  },
  {
   "cell_type": "code",
   "execution_count": null,
   "metadata": {
    "id": "ykUKnAoqbycW"
   },
   "outputs": [],
   "source": [
    "# predict on a sample text without padding.\n",
    "\n",
    "sample_text = ('The movie was not good. The animation and the graphics '\n",
    "               'were terrible. I would not recommend this movie.')\n",
    "predictions = model.predict(np.array([sample_text]))\n",
    "print(predictions)"
   ]
  },
  {
   "cell_type": "code",
   "execution_count": null,
   "metadata": {
    "id": "_YYub0EDtwCu"
   },
   "outputs": [],
   "source": [
    "plt.figure(figsize=(16, 6))\n",
    "plt.subplot(1, 2, 1)\n",
    "plot_graphs(history, 'accuracy')\n",
    "plt.subplot(1, 2, 2)\n",
    "plot_graphs(history, 'loss')"
   ]
  },
  {
   "cell_type": "markdown",
   "metadata": {
    "id": "9xvpE3BaGw_V"
   },
   "source": [
    "Check out other existing recurrent layers such as [GRU layers](https://www.tensorflow.org/api_docs/python/tf/keras/layers/GRU).\n",
    "\n",
    "If you're interestied in building custom RNNs, see the [Keras RNN Guide](https://www.tensorflow.org/guide/keras/rnn).\n"
   ]
  }
 ],
 "metadata": {
  "accelerator": "GPU",
  "colab": {
   "collapsed_sections": [],
   "name": "text_classification_rnn.ipynb",
   "provenance": [],
   "toc_visible": true
  },
  "kernelspec": {
   "display_name": "Python 3",
   "language": "python",
   "name": "python3"
  },
  "language_info": {
   "codemirror_mode": {
    "name": "ipython",
    "version": 3
   },
   "file_extension": ".py",
   "mimetype": "text/x-python",
   "name": "python",
   "nbconvert_exporter": "python",
   "pygments_lexer": "ipython3",
   "version": "3.8.8"
  }
 },
 "nbformat": 4,
 "nbformat_minor": 4
}
